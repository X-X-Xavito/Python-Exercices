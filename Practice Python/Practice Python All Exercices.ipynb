{
 "cells": [
  {
   "cell_type": "markdown",
   "metadata": {},
   "source": [
    "# Practice Python"
   ]
  },
  {
   "cell_type": "markdown",
   "metadata": {},
   "source": [
    "### Exercice 1"
   ]
  },
  {
   "cell_type": "markdown",
   "metadata": {},
   "source": [
    "#### Character Input\n",
    "###### Exercise 1\n",
    "\n",
    "Create a program that asks the user to enter their name and their age. Print out a message addressed to them that tells them the year that they will turn 100 years old.\n",
    "\n",
    "Extras:\n",
    "\n",
    "    \n",
    "1- Add on to the previous program by asking the user for another number and printing out that many copies of the previous message. (Hint: order of operations exists in Python)\n",
    "\n",
    "\n",
    "2- Print out that many copies of the previous message on separate lines. (Hint: the string \"\\n is the same as pressing the ENTER button)\n"
   ]
  },
  {
   "cell_type": "code",
   "execution_count": 2,
   "metadata": {},
   "outputs": [
    {
     "name": "stdout",
     "output_type": "stream",
     "text": [
      "Tell me your name: Kaique\n",
      "How old are you: 25\n",
      "Hey, Kaique. You will be 100 years old in: 2093\n"
     ]
    }
   ],
   "source": [
    "name = input(\"Tell me your name: \")\n",
    "age = int(input('How old are you: '))\n",
    "\n",
    "years = (2018 - age) + 100\n",
    "print(\"Hey, \" + name + \". You will be 100 years old in: \" + str(years))"
   ]
  },
  {
   "cell_type": "markdown",
   "metadata": {},
   "source": [
    "### Exercice 2"
   ]
  },
  {
   "cell_type": "markdown",
   "metadata": {},
   "source": [
    "#### Odd or Even\n",
    "##### Exercices 2\n",
    "\n",
    "Ask the user for a number. Depending on whether the number is even or odd, print out an appropriate message to the user. Hint: how does an even / odd number react differently when divided by 2?\n",
    "\n",
    "Extras:\n",
    "\n",
    "1 - If the number is a multiple of 4, print out a different message.\n",
    "    \n",
    "2 - Ask the user for two numbers: one number to check (call it num) and one number to divide by (check). If check divides evenly into num, tell that to the user. If not, print a different appropriate message.\n"
   ]
  },
  {
   "cell_type": "code",
   "execution_count": null,
   "metadata": {},
   "outputs": [],
   "source": []
  },
  {
   "cell_type": "code",
   "execution_count": 3,
   "metadata": {},
   "outputs": [
    {
     "name": "stdout",
     "output_type": "stream",
     "text": [
      "Pick a number: 1\n",
      "Why did you pick an odd number?\n"
     ]
    }
   ],
   "source": [
    "num = int(input('Pick a number: '))\n",
    "\n",
    "if num%2==0:\n",
    "    print('Why did you pick an even number')\n",
    "else:\n",
    "    print('Why did you pick an odd number?')"
   ]
  },
  {
   "cell_type": "code",
   "execution_count": 4,
   "metadata": {},
   "outputs": [
    {
     "name": "stdout",
     "output_type": "stream",
     "text": [
      "Pick a number: 10\n",
      "Why did you pick an even number?\n"
     ]
    }
   ],
   "source": [
    "#Extra 1\n",
    "\n",
    "num = int(input('Pick a number: '))\n",
    "\n",
    "if num%4==0:\n",
    "    print('Hey! The first number you pick is multiple of 4!')\n",
    "elif num%2==0: \n",
    "    print('Why did you pick an even number?')\n",
    "else:\n",
    "    print('Why did you pick an odd number?')"
   ]
  },
  {
   "cell_type": "code",
   "execution_count": 5,
   "metadata": {},
   "outputs": [
    {
     "name": "stdout",
     "output_type": "stream",
     "text": [
      "Pick a number: 1\n",
      "Pick another number: 1\n",
      "Hey, it possible to divide the first number by the second number!\n"
     ]
    }
   ],
   "source": [
    "#Extra 2\n",
    "\n",
    "num = int(input('Pick a number: '))\n",
    "check = int(input('Pick another number: '))\n",
    "result= num/check\n",
    "\n",
    "\n",
    "if (num%check)==0:\n",
    "    print('Hey, it possible to divide the first number by the second number!')\n",
    "else:\n",
    "    print('You can not divide those numbers evenly!')\n",
    "    "
   ]
  },
  {
   "cell_type": "markdown",
   "metadata": {},
   "source": [
    "### Exercise 3 "
   ]
  },
  {
   "cell_type": "markdown",
   "metadata": {},
   "source": [
    "#### List Less Than Ten \n",
    "##### Exercise 3\n",
    "\n",
    "Take a list, say for example this one:\n",
    "\n",
    "  a = [1, 1, 2, 3, 5, 8, 13, 21, 34, 55, 89]\n",
    "\n",
    "and write a program that prints out all the elements of the list that are less than 5.\n",
    "\n",
    "Extras:\n",
    "\n",
    "1 - Instead of printing the elements one by one, make a new list that has all the elements less than 5 from this list in it and print out this new list.\n",
    "\n",
    "2 - Write this in one line of Python.\n",
    "\n",
    "3 - Ask the user for a number and return a list that contains only elements from the original list a that are smaller than that number given by the user.\n"
   ]
  },
  {
   "cell_type": "code",
   "execution_count": 9,
   "metadata": {},
   "outputs": [
    {
     "name": "stdout",
     "output_type": "stream",
     "text": [
      "1\n",
      "1\n",
      "2\n",
      "3\n"
     ]
    }
   ],
   "source": [
    "newlist = [1, 1, 2, 3, 5, 8, 13, 21, 34, 55, 89]\n",
    "\n",
    "for item in newlist:\n",
    "    if item <5:\n",
    "        print(item)"
   ]
  },
  {
   "cell_type": "code",
   "execution_count": 13,
   "metadata": {},
   "outputs": [
    {
     "name": "stdout",
     "output_type": "stream",
     "text": [
      "[1, 1, 2, 3]\n"
     ]
    }
   ],
   "source": [
    "#Extra 1 \n",
    "\n",
    "a = [1, 1, 2, 3, 5, 8, 13, 21, 34, 55, 89]\n",
    "newlist = []\n",
    "\n",
    "\n",
    "\n",
    "for item in a:\n",
    "    if item <5:\n",
    "        newlist.append(item)\n",
    "        \n",
    "\n",
    "        print(newlist)"
   ]
  },
  {
   "cell_type": "code",
   "execution_count": 19,
   "metadata": {},
   "outputs": [
    {
     "data": {
      "text/plain": [
       "[1, 1, 2, 3]"
      ]
     },
     "execution_count": 19,
     "metadata": {},
     "output_type": "execute_result"
    }
   ],
   "source": [
    "#Extra 2\n",
    "a = [1, 1, 2, 3, 5, 8, 13, 21, 34, 55, 89]\n",
    "\n",
    "newlist = [item for item in a if item <5]\n",
    "\n",
    "newlist"
   ]
  },
  {
   "cell_type": "code",
   "execution_count": null,
   "metadata": {},
   "outputs": [],
   "source": [
    "#Extra 3 \n",
    "a = [1, 1, 2, 3, 5, 8, 13, 21, 34, 55, 89]\n",
    "num = int(input('Pick a new number: '))\n",
    "newlist1 = []\n",
    "\n",
    "for item in a:\n",
    "    if item<num:\n",
    "        newlist1.append(item)\n",
    "        \n",
    "newlist1"
   ]
  },
  {
   "cell_type": "markdown",
   "metadata": {},
   "source": [
    "### Exercise 4"
   ]
  },
  {
   "cell_type": "markdown",
   "metadata": {},
   "source": [
    "### Divisors\n",
    "##### Exercise 4\n",
    "\n",
    "Create a program that asks the user for a number and then prints out a list of all the divisors of that number. (If you don’t know what a divisor is, it is a number that divides evenly into another number. For example, 13 is a divisor of 26 because 26 / 13 has no remainder.)\n"
   ]
  },
  {
   "cell_type": "code",
   "execution_count": 5,
   "metadata": {},
   "outputs": [
    {
     "name": "stdout",
     "output_type": "stream",
     "text": [
      "Pick a number: 10\n",
      "The numbers divisors of 10 are [1, 2, 5, 10]\n"
     ]
    }
   ],
   "source": [
    "num = int(input('Pick a number: '))\n",
    "newlist = []\n",
    "\n",
    "\n",
    "for item in range(1,(num+1)):\n",
    "    if (num%item)==0:\n",
    "        newlist.append(item)\n",
    "        \n",
    "print('The numbers divisors of {} are {}'.format(num, newlist))"
   ]
  }
 ],
 "metadata": {
  "kernelspec": {
   "display_name": "Python 3",
   "language": "python",
   "name": "python3"
  },
  "language_info": {
   "codemirror_mode": {
    "name": "ipython",
    "version": 3
   },
   "file_extension": ".py",
   "mimetype": "text/x-python",
   "name": "python",
   "nbconvert_exporter": "python",
   "pygments_lexer": "ipython3",
   "version": "3.7.0"
  }
 },
 "nbformat": 4,
 "nbformat_minor": 2
}
